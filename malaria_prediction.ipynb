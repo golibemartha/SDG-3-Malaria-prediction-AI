{
 "cells": [
  {
   "cell_type": "code",
   "execution_count": null,
   "id": "9932dd1c-b269-490d-900b-20e12d3c3732",
   "metadata": {},
   "outputs": [],
   "source": [
    "phhhh"
   ]
  }
 ],
 "metadata": {
  "kernelspec": {
   "display_name": "Python (learn-env)",
   "language": "python",
   "name": "learn-env"
  },
  "language_info": {
   "codemirror_mode": {
    "name": "ipython",
    "version": 3
   },
   "file_extension": ".py",
   "mimetype": "text/x-python",
   "name": "python",
   "nbconvert_exporter": "python",
   "pygments_lexer": "ipython3",
   "version": "3.13.2"
  }
 },
 "nbformat": 4,
 "nbformat_minor": 5
}
